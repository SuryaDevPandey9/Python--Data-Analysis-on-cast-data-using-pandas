{
 "cells": [
  {
   "cell_type": "code",
   "execution_count": 2,
   "id": "e9fc1ae7",
   "metadata": {},
   "outputs": [],
   "source": [
    "import pandas as pd\n",
    "import numpy as np\n",
    "from matplotlib import pyplot as plot"
   ]
  },
  {
   "cell_type": "code",
   "execution_count": 3,
   "id": "8340be9d",
   "metadata": {},
   "outputs": [],
   "source": [
    "cast=pd.read_csv(r\"C:\\Users\\surya\\Downloads\\cast\\cast.csv\")"
   ]
  },
  {
   "cell_type": "code",
   "execution_count": 4,
   "id": "97126117",
   "metadata": {},
   "outputs": [
    {
     "data": {
      "text/html": [
       "<div>\n",
       "<style scoped>\n",
       "    .dataframe tbody tr th:only-of-type {\n",
       "        vertical-align: middle;\n",
       "    }\n",
       "\n",
       "    .dataframe tbody tr th {\n",
       "        vertical-align: top;\n",
       "    }\n",
       "\n",
       "    .dataframe thead th {\n",
       "        text-align: right;\n",
       "    }\n",
       "</style>\n",
       "<table border=\"1\" class=\"dataframe\">\n",
       "  <thead>\n",
       "    <tr style=\"text-align: right;\">\n",
       "      <th></th>\n",
       "      <th>title</th>\n",
       "      <th>year</th>\n",
       "      <th>name</th>\n",
       "      <th>type</th>\n",
       "      <th>character</th>\n",
       "      <th>n</th>\n",
       "    </tr>\n",
       "  </thead>\n",
       "  <tbody>\n",
       "    <tr>\n",
       "      <th>0</th>\n",
       "      <td>Suuri illusioni</td>\n",
       "      <td>1985</td>\n",
       "      <td>Homo $</td>\n",
       "      <td>actor</td>\n",
       "      <td>Guests</td>\n",
       "      <td>22.0</td>\n",
       "    </tr>\n",
       "    <tr>\n",
       "      <th>1</th>\n",
       "      <td>Gangsta Rap: The Glockumentary</td>\n",
       "      <td>2007</td>\n",
       "      <td>Too $hort</td>\n",
       "      <td>actor</td>\n",
       "      <td>Himself</td>\n",
       "      <td>NaN</td>\n",
       "    </tr>\n",
       "    <tr>\n",
       "      <th>2</th>\n",
       "      <td>Menace II Society</td>\n",
       "      <td>1993</td>\n",
       "      <td>Too $hort</td>\n",
       "      <td>actor</td>\n",
       "      <td>Lew-Loc</td>\n",
       "      <td>27.0</td>\n",
       "    </tr>\n",
       "    <tr>\n",
       "      <th>3</th>\n",
       "      <td>Porndogs: The Adventures of Sadie</td>\n",
       "      <td>2009</td>\n",
       "      <td>Too $hort</td>\n",
       "      <td>actor</td>\n",
       "      <td>Bosco</td>\n",
       "      <td>3.0</td>\n",
       "    </tr>\n",
       "    <tr>\n",
       "      <th>4</th>\n",
       "      <td>Stop Pepper Palmer</td>\n",
       "      <td>2014</td>\n",
       "      <td>Too $hort</td>\n",
       "      <td>actor</td>\n",
       "      <td>Himself</td>\n",
       "      <td>NaN</td>\n",
       "    </tr>\n",
       "    <tr>\n",
       "      <th>...</th>\n",
       "      <td>...</td>\n",
       "      <td>...</td>\n",
       "      <td>...</td>\n",
       "      <td>...</td>\n",
       "      <td>...</td>\n",
       "      <td>...</td>\n",
       "    </tr>\n",
       "    <tr>\n",
       "      <th>3311642</th>\n",
       "      <td>Stuttur Frakki</td>\n",
       "      <td>1993</td>\n",
       "      <td>Sveinbj?rg ??rhallsd?ttir</td>\n",
       "      <td>actress</td>\n",
       "      <td>Flugfreyja</td>\n",
       "      <td>24.0</td>\n",
       "    </tr>\n",
       "    <tr>\n",
       "      <th>3311643</th>\n",
       "      <td>Foxtrot</td>\n",
       "      <td>1988</td>\n",
       "      <td>Lilja ??risd?ttir</td>\n",
       "      <td>actress</td>\n",
       "      <td>D?ra</td>\n",
       "      <td>24.0</td>\n",
       "    </tr>\n",
       "    <tr>\n",
       "      <th>3311644</th>\n",
       "      <td>Niceland (Population. 1.000.002)</td>\n",
       "      <td>2004</td>\n",
       "      <td>Sigr??ur J?na ??risd?ttir</td>\n",
       "      <td>actress</td>\n",
       "      <td>Woman in Bus</td>\n",
       "      <td>26.0</td>\n",
       "    </tr>\n",
       "    <tr>\n",
       "      <th>3311645</th>\n",
       "      <td>U.S.S.S.S...</td>\n",
       "      <td>2003</td>\n",
       "      <td>Krist?n Andrea ??r?ard?ttir</td>\n",
       "      <td>actress</td>\n",
       "      <td>Afgr.dama ? bens?nst??</td>\n",
       "      <td>17.0</td>\n",
       "    </tr>\n",
       "    <tr>\n",
       "      <th>3311646</th>\n",
       "      <td>Bye Bye Blue Bird</td>\n",
       "      <td>1999</td>\n",
       "      <td>Rosa ? R?gvu</td>\n",
       "      <td>actress</td>\n",
       "      <td>Pensionatv?rtinde</td>\n",
       "      <td>NaN</td>\n",
       "    </tr>\n",
       "  </tbody>\n",
       "</table>\n",
       "<p>3311647 rows × 6 columns</p>\n",
       "</div>"
      ],
      "text/plain": [
       "                                     title  year                         name  \\\n",
       "0                          Suuri illusioni  1985                       Homo $   \n",
       "1           Gangsta Rap: The Glockumentary  2007                    Too $hort   \n",
       "2                        Menace II Society  1993                    Too $hort   \n",
       "3        Porndogs: The Adventures of Sadie  2009                    Too $hort   \n",
       "4                       Stop Pepper Palmer  2014                    Too $hort   \n",
       "...                                    ...   ...                          ...   \n",
       "3311642                     Stuttur Frakki  1993    Sveinbj?rg ??rhallsd?ttir   \n",
       "3311643                            Foxtrot  1988            Lilja ??risd?ttir   \n",
       "3311644   Niceland (Population. 1.000.002)  2004    Sigr??ur J?na ??risd?ttir   \n",
       "3311645                       U.S.S.S.S...  2003  Krist?n Andrea ??r?ard?ttir   \n",
       "3311646                  Bye Bye Blue Bird  1999                 Rosa ? R?gvu   \n",
       "\n",
       "            type               character     n  \n",
       "0          actor                  Guests  22.0  \n",
       "1          actor                 Himself   NaN  \n",
       "2          actor                 Lew-Loc  27.0  \n",
       "3          actor                   Bosco   3.0  \n",
       "4          actor                 Himself   NaN  \n",
       "...          ...                     ...   ...  \n",
       "3311642  actress              Flugfreyja  24.0  \n",
       "3311643  actress                    D?ra  24.0  \n",
       "3311644  actress            Woman in Bus  26.0  \n",
       "3311645  actress  Afgr.dama ? bens?nst??  17.0  \n",
       "3311646  actress       Pensionatv?rtinde   NaN  \n",
       "\n",
       "[3311647 rows x 6 columns]"
      ]
     },
     "execution_count": 4,
     "metadata": {},
     "output_type": "execute_result"
    }
   ],
   "source": [
    "cast"
   ]
  },
  {
   "cell_type": "markdown",
   "id": "6532e73f",
   "metadata": {},
   "source": [
    "# 1.Using groupby(), plot the number of films that have been released each decade in the history of cinema."
   ]
  },
  {
   "cell_type": "code",
   "execution_count": 67,
   "id": "ae3d7e6c",
   "metadata": {},
   "outputs": [
    {
     "data": {
      "text/plain": [
       "<AxesSubplot:xlabel='year'>"
      ]
     },
     "execution_count": 67,
     "metadata": {},
     "output_type": "execute_result"
    },
    {
     "data": {
      "image/png": "[encoded data removed]",
      "text/plain": [
       "<Figure size 640x480 with 1 Axes>"
      ]
     },
     "metadata": {},
     "output_type": "display_data"
    }
   ],
   "source": [
    "cast.groupby((cast.year//10)*10).sum().plot.bar()"
   ]
  },
  {
   "cell_type": "markdown",
   "id": "8a7ce12c",
   "metadata": {},
   "source": [
    "# 2.Use groupby() to plot the number of \"Hamlet\" films made each decade."
   ]
  },
  {
   "cell_type": "code",
   "execution_count": 34,
   "id": "b6799ac0",
   "metadata": {},
   "outputs": [
    {
     "data": {
      "text/plain": [
       "<AxesSubplot:xlabel='year'>"
      ]
     },
     "execution_count": 34,
     "metadata": {},
     "output_type": "execute_result"
    },
    {
     "data": {
      "image/png": "[encoded data removed]",
      "text/plain": [
       "<Figure size 640x480 with 1 Axes>"
      ]
     },
     "metadata": {},
     "output_type": "display_data"
    }
   ],
   "source": [
    "cast[cast.title=='Hamlet'].groupby((cast.year//10)*10).title.count().plot.bar()"
   ]
  },
  {
   "cell_type": "markdown",
   "id": "234f53f6",
   "metadata": {},
   "source": [
    "# 3.How many leading (n=1) roles were available to actors, and how many to actresses, in each year of the 1950s?"
   ]
  },
  {
   "cell_type": "code",
   "execution_count": 85,
   "id": "3a44afe4",
   "metadata": {},
   "outputs": [
    {
     "data": {
      "text/plain": [
       "type     year\n",
       "actor    1950    567\n",
       "         1951    588\n",
       "         1952    552\n",
       "         1953    606\n",
       "         1954    601\n",
       "         1955    592\n",
       "         1956    596\n",
       "         1957    691\n",
       "         1958    680\n",
       "         1959    665\n",
       "actress  1950    268\n",
       "         1951    263\n",
       "         1952    280\n",
       "         1953    284\n",
       "         1954    292\n",
       "         1955    258\n",
       "         1956    282\n",
       "         1957    275\n",
       "         1958    269\n",
       "         1959    280\n",
       "Name: character, dtype: int64"
      ]
     },
     "execution_count": 85,
     "metadata": {},
     "output_type": "execute_result"
    }
   ],
   "source": [
    "cast[(cast.year>=1950)&(cast.year<=1959)&(cast.n==1)].groupby(['type','year']).character.nunique()"
   ]
  },
  {
   "cell_type": "markdown",
   "id": "af987b86",
   "metadata": {},
   "source": [
    "# 4.In the 1950s decade taken as a whole, how many total roles were available to actors, and how many to actresses, for each \"n\" number 1 through 5?"
   ]
  },
  {
   "cell_type": "code",
   "execution_count": 87,
   "id": "f6ce025e",
   "metadata": {},
   "outputs": [
    {
     "data": {
      "text/plain": [
       "n    year  type   \n",
       "1.0  1950  actor      567\n",
       "           actress    268\n",
       "     1951  actor      588\n",
       "           actress    263\n",
       "     1952  actor      552\n",
       "                     ... \n",
       "5.0  1957  actress    268\n",
       "     1958  actor      561\n",
       "           actress    255\n",
       "     1959  actor      532\n",
       "           actress    253\n",
       "Name: character, Length: 100, dtype: int64"
      ]
     },
     "execution_count": 87,
     "metadata": {},
     "output_type": "execute_result"
    }
   ],
   "source": [
    "a = cast[(cast.year>=1950)&(cast.year<=1959)&(cast.n>=1)&(cast.n<=5)].groupby(['n','year','type']).nunique()\n",
    "b = a.loc[:,'character']\n",
    "b"
   ]
  },
  {
   "cell_type": "markdown",
   "id": "70a1599f",
   "metadata": {},
   "source": [
    "# 5.Use groupby() to determine how many roles are listed for each of the Pink Panther movies."
   ]
  },
  {
   "cell_type": "code",
   "execution_count": 51,
   "id": "9afae18a",
   "metadata": {},
   "outputs": [
    {
     "data": {
      "text/plain": [
       "year\n",
       "1963    19\n",
       "1975    30\n",
       "1976    73\n",
       "1978    64\n",
       "1982    40\n",
       "1983    67\n",
       "1993    46\n",
       "2006    89\n",
       "2009    82\n",
       "dtype: int64"
      ]
     },
     "execution_count": 51,
     "metadata": {},
     "output_type": "execute_result"
    }
   ],
   "source": [
    "cast[cast.title.str.contains('Pink Panther')].groupby('year').size()"
   ]
  },
  {
   "cell_type": "markdown",
   "id": "4f8ee5c9",
   "metadata": {},
   "source": [
    "# 6.List, in order by year, each of the films in which Frank Oz has played more than 1 role."
   ]
  },
  {
   "cell_type": "code",
   "execution_count": 64,
   "id": "9d905e86",
   "metadata": {},
   "outputs": [
    {
     "data": {
      "text/plain": [
       "title                                           year\n",
       "An American Werewolf in London                  1981     True\n",
       "Blues Brothers 2000                             1998    False\n",
       "Innocent Blood                                  1992    False\n",
       "Inside Out                                      2015    False\n",
       "Labyrinth                                       1986    False\n",
       "Monsters, Inc.                                  2001    False\n",
       "Muppet Treasure Island                          1996     True\n",
       "Muppets from Space                              1999     True\n",
       "Sesame Street Presents: Follow that Bird        1985     True\n",
       "Spies Like Us                                   1985    False\n",
       "Star Wars: Episode I - The Phantom Menace       1999    False\n",
       "Star Wars: Episode II - Attack of the Clones    2002    False\n",
       "Star Wars: Episode III - Revenge of the Sith    2005    False\n",
       "Star Wars: Episode V - The Empire Strikes Back  1980    False\n",
       "Star Wars: Episode VI - Return of the Jedi      1983    False\n",
       "Superman III                                    1983    False\n",
       "The Adventures of Elmo in Grouchland            1999     True\n",
       "The Blues Brothers                              1980    False\n",
       "The Dark Crystal                                1982     True\n",
       "The Great Muppet Caper                          1981     True\n",
       "The Muppet Christmas Carol                      1992     True\n",
       "The Muppet Movie                                1979     True\n",
       "The Muppets Take Manhattan                      1984     True\n",
       "Trading Places                                  1983    False\n",
       "Zathura: A Space Adventure                      2005    False\n",
       "dtype: bool"
      ]
     },
     "execution_count": 64,
     "metadata": {},
     "output_type": "execute_result"
    }
   ],
   "source": [
    "cast[cast.name=='Frank Oz'].groupby(['title','year']).size()>1"
   ]
  },
  {
   "cell_type": "markdown",
   "id": "df916164",
   "metadata": {},
   "source": [
    "# 7.List each of the characters that Frank Oz has portrayed at least twice.\n"
   ]
  },
  {
   "cell_type": "code",
   "execution_count": 66,
   "id": "d772c144",
   "metadata": {},
   "outputs": [
    {
     "data": {
      "text/plain": [
       "title                                           year\n",
       "An American Werewolf in London                  1981     True\n",
       "Blues Brothers 2000                             1998    False\n",
       "Innocent Blood                                  1992    False\n",
       "Inside Out                                      2015    False\n",
       "Labyrinth                                       1986    False\n",
       "Monsters, Inc.                                  2001    False\n",
       "Muppet Treasure Island                          1996     True\n",
       "Muppets from Space                              1999     True\n",
       "Sesame Street Presents: Follow that Bird        1985     True\n",
       "Spies Like Us                                   1985    False\n",
       "Star Wars: Episode I - The Phantom Menace       1999    False\n",
       "Star Wars: Episode II - Attack of the Clones    2002    False\n",
       "Star Wars: Episode III - Revenge of the Sith    2005    False\n",
       "Star Wars: Episode V - The Empire Strikes Back  1980    False\n",
       "Star Wars: Episode VI - Return of the Jedi      1983    False\n",
       "Superman III                                    1983    False\n",
       "The Adventures of Elmo in Grouchland            1999     True\n",
       "The Blues Brothers                              1980    False\n",
       "The Dark Crystal                                1982     True\n",
       "The Great Muppet Caper                          1981     True\n",
       "The Muppet Christmas Carol                      1992     True\n",
       "The Muppet Movie                                1979     True\n",
       "The Muppets Take Manhattan                      1984     True\n",
       "Trading Places                                  1983    False\n",
       "Zathura: A Space Adventure                      2005    False\n",
       "dtype: bool"
      ]
     },
     "execution_count": 66,
     "metadata": {},
     "output_type": "execute_result"
    }
   ],
   "source": [
    "cast[cast.name=='Frank Oz'].groupby(['title','year']).size()>=2"
   ]
  }
 ],
 "metadata": {
  "kernelspec": {
   "display_name": "Python 3 (ipykernel)",
   "language": "python",
   "name": "python3"
  },
  "language_info": {
   "codemirror_mode": {
    "name": "ipython",
    "version": 3
   },
   "file_extension": ".py",
   "mimetype": "text/x-python",
   "name": "python",
   "nbconvert_exporter": "python",
   "pygments_lexer": "ipython3",
   "version": "3.9.13"
  }
 },
 "nbformat": 4,
 "nbformat_minor": 5
}
