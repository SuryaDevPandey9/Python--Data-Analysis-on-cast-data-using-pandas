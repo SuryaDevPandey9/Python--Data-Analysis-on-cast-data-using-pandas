{
 "cells": [
  {
   "cell_type": "code",
   "execution_count": 1,
   "id": "de953281",
   "metadata": {},
   "outputs": [],
   "source": [
    "import pandas as pd\n",
    "import numpy as np"
   ]
  },
  {
   "cell_type": "code",
   "execution_count": 2,
   "id": "ca79fc6b",
   "metadata": {},
   "outputs": [],
   "source": [
    "cast=pd.read_csv(r\"C:\\Users\\surya\\Downloads\\cast\\cast.csv\")"
   ]
  },
  {
   "cell_type": "code",
   "execution_count": 3,
   "id": "7b278944",
   "metadata": {},
   "outputs": [
    {
     "data": {
      "text/html": [
       "<div>\n",
       "<style scoped>\n",
       "    .dataframe tbody tr th:only-of-type {\n",
       "        vertical-align: middle;\n",
       "    }\n",
       "\n",
       "    .dataframe tbody tr th {\n",
       "        vertical-align: top;\n",
       "    }\n",
       "\n",
       "    .dataframe thead th {\n",
       "        text-align: right;\n",
       "    }\n",
       "</style>\n",
       "<table border=\"1\" class=\"dataframe\">\n",
       "  <thead>\n",
       "    <tr style=\"text-align: right;\">\n",
       "      <th></th>\n",
       "      <th>title</th>\n",
       "      <th>year</th>\n",
       "      <th>name</th>\n",
       "      <th>type</th>\n",
       "      <th>character</th>\n",
       "      <th>n</th>\n",
       "    </tr>\n",
       "  </thead>\n",
       "  <tbody>\n",
       "    <tr>\n",
       "      <th>0</th>\n",
       "      <td>Suuri illusioni</td>\n",
       "      <td>1985</td>\n",
       "      <td>Homo $</td>\n",
       "      <td>actor</td>\n",
       "      <td>Guests</td>\n",
       "      <td>22.0</td>\n",
       "    </tr>\n",
       "    <tr>\n",
       "      <th>1</th>\n",
       "      <td>Gangsta Rap: The Glockumentary</td>\n",
       "      <td>2007</td>\n",
       "      <td>Too $hort</td>\n",
       "      <td>actor</td>\n",
       "      <td>Himself</td>\n",
       "      <td>NaN</td>\n",
       "    </tr>\n",
       "    <tr>\n",
       "      <th>2</th>\n",
       "      <td>Menace II Society</td>\n",
       "      <td>1993</td>\n",
       "      <td>Too $hort</td>\n",
       "      <td>actor</td>\n",
       "      <td>Lew-Loc</td>\n",
       "      <td>27.0</td>\n",
       "    </tr>\n",
       "    <tr>\n",
       "      <th>3</th>\n",
       "      <td>Porndogs: The Adventures of Sadie</td>\n",
       "      <td>2009</td>\n",
       "      <td>Too $hort</td>\n",
       "      <td>actor</td>\n",
       "      <td>Bosco</td>\n",
       "      <td>3.0</td>\n",
       "    </tr>\n",
       "    <tr>\n",
       "      <th>4</th>\n",
       "      <td>Stop Pepper Palmer</td>\n",
       "      <td>2014</td>\n",
       "      <td>Too $hort</td>\n",
       "      <td>actor</td>\n",
       "      <td>Himself</td>\n",
       "      <td>NaN</td>\n",
       "    </tr>\n",
       "    <tr>\n",
       "      <th>...</th>\n",
       "      <td>...</td>\n",
       "      <td>...</td>\n",
       "      <td>...</td>\n",
       "      <td>...</td>\n",
       "      <td>...</td>\n",
       "      <td>...</td>\n",
       "    </tr>\n",
       "    <tr>\n",
       "      <th>3311642</th>\n",
       "      <td>Stuttur Frakki</td>\n",
       "      <td>1993</td>\n",
       "      <td>Sveinbj?rg ??rhallsd?ttir</td>\n",
       "      <td>actress</td>\n",
       "      <td>Flugfreyja</td>\n",
       "      <td>24.0</td>\n",
       "    </tr>\n",
       "    <tr>\n",
       "      <th>3311643</th>\n",
       "      <td>Foxtrot</td>\n",
       "      <td>1988</td>\n",
       "      <td>Lilja ??risd?ttir</td>\n",
       "      <td>actress</td>\n",
       "      <td>D?ra</td>\n",
       "      <td>24.0</td>\n",
       "    </tr>\n",
       "    <tr>\n",
       "      <th>3311644</th>\n",
       "      <td>Niceland (Population. 1.000.002)</td>\n",
       "      <td>2004</td>\n",
       "      <td>Sigr??ur J?na ??risd?ttir</td>\n",
       "      <td>actress</td>\n",
       "      <td>Woman in Bus</td>\n",
       "      <td>26.0</td>\n",
       "    </tr>\n",
       "    <tr>\n",
       "      <th>3311645</th>\n",
       "      <td>U.S.S.S.S...</td>\n",
       "      <td>2003</td>\n",
       "      <td>Krist?n Andrea ??r?ard?ttir</td>\n",
       "      <td>actress</td>\n",
       "      <td>Afgr.dama ? bens?nst??</td>\n",
       "      <td>17.0</td>\n",
       "    </tr>\n",
       "    <tr>\n",
       "      <th>3311646</th>\n",
       "      <td>Bye Bye Blue Bird</td>\n",
       "      <td>1999</td>\n",
       "      <td>Rosa ? R?gvu</td>\n",
       "      <td>actress</td>\n",
       "      <td>Pensionatv?rtinde</td>\n",
       "      <td>NaN</td>\n",
       "    </tr>\n",
       "  </tbody>\n",
       "</table>\n",
       "<p>3311647 rows × 6 columns</p>\n",
       "</div>"
      ],
      "text/plain": [
       "                                     title  year                         name  \\\n",
       "0                          Suuri illusioni  1985                       Homo $   \n",
       "1           Gangsta Rap: The Glockumentary  2007                    Too $hort   \n",
       "2                        Menace II Society  1993                    Too $hort   \n",
       "3        Porndogs: The Adventures of Sadie  2009                    Too $hort   \n",
       "4                       Stop Pepper Palmer  2014                    Too $hort   \n",
       "...                                    ...   ...                          ...   \n",
       "3311642                     Stuttur Frakki  1993    Sveinbj?rg ??rhallsd?ttir   \n",
       "3311643                            Foxtrot  1988            Lilja ??risd?ttir   \n",
       "3311644   Niceland (Population. 1.000.002)  2004    Sigr??ur J?na ??risd?ttir   \n",
       "3311645                       U.S.S.S.S...  2003  Krist?n Andrea ??r?ard?ttir   \n",
       "3311646                  Bye Bye Blue Bird  1999                 Rosa ? R?gvu   \n",
       "\n",
       "            type               character     n  \n",
       "0          actor                  Guests  22.0  \n",
       "1          actor                 Himself   NaN  \n",
       "2          actor                 Lew-Loc  27.0  \n",
       "3          actor                   Bosco   3.0  \n",
       "4          actor                 Himself   NaN  \n",
       "...          ...                     ...   ...  \n",
       "3311642  actress              Flugfreyja  24.0  \n",
       "3311643  actress                    D?ra  24.0  \n",
       "3311644  actress            Woman in Bus  26.0  \n",
       "3311645  actress  Afgr.dama ? bens?nst??  17.0  \n",
       "3311646  actress       Pensionatv?rtinde   NaN  \n",
       "\n",
       "[3311647 rows x 6 columns]"
      ]
     },
     "execution_count": 3,
     "metadata": {},
     "output_type": "execute_result"
    }
   ],
   "source": [
    "cast"
   ]
  },
  {
   "cell_type": "code",
   "execution_count": 4,
   "id": "e1926e1b",
   "metadata": {},
   "outputs": [
    {
     "data": {
      "text/html": [
       "<div>\n",
       "<style scoped>\n",
       "    .dataframe tbody tr th:only-of-type {\n",
       "        vertical-align: middle;\n",
       "    }\n",
       "\n",
       "    .dataframe tbody tr th {\n",
       "        vertical-align: top;\n",
       "    }\n",
       "\n",
       "    .dataframe thead th {\n",
       "        text-align: right;\n",
       "    }\n",
       "</style>\n",
       "<table border=\"1\" class=\"dataframe\">\n",
       "  <thead>\n",
       "    <tr style=\"text-align: right;\">\n",
       "      <th></th>\n",
       "      <th>title</th>\n",
       "      <th>year</th>\n",
       "      <th>name</th>\n",
       "      <th>type</th>\n",
       "      <th>character</th>\n",
       "      <th>n</th>\n",
       "    </tr>\n",
       "  </thead>\n",
       "  <tbody>\n",
       "    <tr>\n",
       "      <th>0</th>\n",
       "      <td>Suuri illusioni</td>\n",
       "      <td>1985</td>\n",
       "      <td>Homo $</td>\n",
       "      <td>actor</td>\n",
       "      <td>Guests</td>\n",
       "      <td>22.0</td>\n",
       "    </tr>\n",
       "    <tr>\n",
       "      <th>1</th>\n",
       "      <td>Gangsta Rap: The Glockumentary</td>\n",
       "      <td>2007</td>\n",
       "      <td>Too $hort</td>\n",
       "      <td>actor</td>\n",
       "      <td>Himself</td>\n",
       "      <td>NaN</td>\n",
       "    </tr>\n",
       "    <tr>\n",
       "      <th>2</th>\n",
       "      <td>Menace II Society</td>\n",
       "      <td>1993</td>\n",
       "      <td>Too $hort</td>\n",
       "      <td>actor</td>\n",
       "      <td>Lew-Loc</td>\n",
       "      <td>27.0</td>\n",
       "    </tr>\n",
       "    <tr>\n",
       "      <th>3</th>\n",
       "      <td>Porndogs: The Adventures of Sadie</td>\n",
       "      <td>2009</td>\n",
       "      <td>Too $hort</td>\n",
       "      <td>actor</td>\n",
       "      <td>Bosco</td>\n",
       "      <td>3.0</td>\n",
       "    </tr>\n",
       "    <tr>\n",
       "      <th>4</th>\n",
       "      <td>Stop Pepper Palmer</td>\n",
       "      <td>2014</td>\n",
       "      <td>Too $hort</td>\n",
       "      <td>actor</td>\n",
       "      <td>Himself</td>\n",
       "      <td>NaN</td>\n",
       "    </tr>\n",
       "    <tr>\n",
       "      <th>5</th>\n",
       "      <td>Townbiz</td>\n",
       "      <td>2010</td>\n",
       "      <td>Too $hort</td>\n",
       "      <td>actor</td>\n",
       "      <td>Himself</td>\n",
       "      <td>NaN</td>\n",
       "    </tr>\n",
       "    <tr>\n",
       "      <th>6</th>\n",
       "      <td>For Thy Love 2</td>\n",
       "      <td>2009</td>\n",
       "      <td>Bee Moe $lim</td>\n",
       "      <td>actor</td>\n",
       "      <td>Thug 1</td>\n",
       "      <td>NaN</td>\n",
       "    </tr>\n",
       "    <tr>\n",
       "      <th>7</th>\n",
       "      <td>Desire (III)</td>\n",
       "      <td>2014</td>\n",
       "      <td>Syaiful 'Ariffin</td>\n",
       "      <td>actor</td>\n",
       "      <td>Actor Playing Eteocles from 'Antigone'</td>\n",
       "      <td>NaN</td>\n",
       "    </tr>\n",
       "    <tr>\n",
       "      <th>8</th>\n",
       "      <td>When the Man Went South</td>\n",
       "      <td>2014</td>\n",
       "      <td>Taipaleti 'Atu'ake</td>\n",
       "      <td>actor</td>\n",
       "      <td>Two Palms - Ua'i Paame</td>\n",
       "      <td>8.0</td>\n",
       "    </tr>\n",
       "    <tr>\n",
       "      <th>9</th>\n",
       "      <td>Little Angel (Angelita)</td>\n",
       "      <td>2015</td>\n",
       "      <td>Michael 'babeepower' Viera</td>\n",
       "      <td>actor</td>\n",
       "      <td>Chico</td>\n",
       "      <td>9.0</td>\n",
       "    </tr>\n",
       "  </tbody>\n",
       "</table>\n",
       "</div>"
      ],
      "text/plain": [
       "                               title  year                        name   type  \\\n",
       "0                    Suuri illusioni  1985                      Homo $  actor   \n",
       "1     Gangsta Rap: The Glockumentary  2007                   Too $hort  actor   \n",
       "2                  Menace II Society  1993                   Too $hort  actor   \n",
       "3  Porndogs: The Adventures of Sadie  2009                   Too $hort  actor   \n",
       "4                 Stop Pepper Palmer  2014                   Too $hort  actor   \n",
       "5                            Townbiz  2010                   Too $hort  actor   \n",
       "6                     For Thy Love 2  2009                Bee Moe $lim  actor   \n",
       "7                       Desire (III)  2014            Syaiful 'Ariffin  actor   \n",
       "8            When the Man Went South  2014          Taipaleti 'Atu'ake  actor   \n",
       "9            Little Angel (Angelita)  2015  Michael 'babeepower' Viera  actor   \n",
       "\n",
       "                                character     n  \n",
       "0                                  Guests  22.0  \n",
       "1                                 Himself   NaN  \n",
       "2                                 Lew-Loc  27.0  \n",
       "3                                   Bosco   3.0  \n",
       "4                                 Himself   NaN  \n",
       "5                                 Himself   NaN  \n",
       "6                                  Thug 1   NaN  \n",
       "7  Actor Playing Eteocles from 'Antigone'   NaN  \n",
       "8                  Two Palms - Ua'i Paame   8.0  \n",
       "9                                   Chico   9.0  "
      ]
     },
     "execution_count": 4,
     "metadata": {},
     "output_type": "execute_result"
    }
   ],
   "source": [
    "cast.head(10)"
   ]
  },
  {
   "cell_type": "markdown",
   "id": "2e19b92e",
   "metadata": {},
   "source": [
    "# 1.How many movies are listed in the titles dataframe?"
   ]
  },
  {
   "cell_type": "code",
   "execution_count": 5,
   "id": "f0c89ccf",
   "metadata": {},
   "outputs": [
    {
     "data": {
      "text/plain": [
       "3311647"
      ]
     },
     "execution_count": 5,
     "metadata": {},
     "output_type": "execute_result"
    }
   ],
   "source": [
    "cast.title.count()"
   ]
  },
  {
   "cell_type": "markdown",
   "id": "eb1e07b0",
   "metadata": {},
   "source": [
    "# 2.What are the earliest two films listed in the titles dataframe?"
   ]
  },
  {
   "cell_type": "code",
   "execution_count": 6,
   "id": "4e8d0cfd",
   "metadata": {},
   "outputs": [
    {
     "data": {
      "text/html": [
       "<div>\n",
       "<style scoped>\n",
       "    .dataframe tbody tr th:only-of-type {\n",
       "        vertical-align: middle;\n",
       "    }\n",
       "\n",
       "    .dataframe tbody tr th {\n",
       "        vertical-align: top;\n",
       "    }\n",
       "\n",
       "    .dataframe thead th {\n",
       "        text-align: right;\n",
       "    }\n",
       "</style>\n",
       "<table border=\"1\" class=\"dataframe\">\n",
       "  <thead>\n",
       "    <tr style=\"text-align: right;\">\n",
       "      <th>title</th>\n",
       "      <th>Miss Jerry</th>\n",
       "      <th>Jeffries-Sharkey Contest</th>\n",
       "    </tr>\n",
       "    <tr>\n",
       "      <th>year</th>\n",
       "      <th></th>\n",
       "      <th></th>\n",
       "    </tr>\n",
       "  </thead>\n",
       "  <tbody>\n",
       "    <tr>\n",
       "      <th>1894</th>\n",
       "      <td>3.0</td>\n",
       "      <td>NaN</td>\n",
       "    </tr>\n",
       "    <tr>\n",
       "      <th>1899</th>\n",
       "      <td>NaN</td>\n",
       "      <td>4.0</td>\n",
       "    </tr>\n",
       "  </tbody>\n",
       "</table>\n",
       "</div>"
      ],
      "text/plain": [
       "title  Miss Jerry  Jeffries-Sharkey Contest\n",
       "year                                       \n",
       "1894          3.0                       NaN\n",
       "1899          NaN                       4.0"
      ]
     },
     "execution_count": 6,
     "metadata": {},
     "output_type": "execute_result"
    }
   ],
   "source": [
    "cast.groupby('year').title.value_counts().head(2).unstack()"
   ]
  },
  {
   "cell_type": "markdown",
   "id": "0ae48c2e",
   "metadata": {},
   "source": [
    "# 3.How many movies have the title \"Hamlet\"?"
   ]
  },
  {
   "cell_type": "code",
   "execution_count": 7,
   "id": "abd45f6a",
   "metadata": {},
   "outputs": [
    {
     "data": {
      "text/plain": [
       "299"
      ]
     },
     "execution_count": 7,
     "metadata": {},
     "output_type": "execute_result"
    }
   ],
   "source": [
    "cast[cast.title=='Hamlet'].title.count()"
   ]
  },
  {
   "cell_type": "markdown",
   "id": "6c097dd5",
   "metadata": {},
   "source": [
    "# 4.How many movies are titled \"North by Northwest\"?"
   ]
  },
  {
   "cell_type": "code",
   "execution_count": 8,
   "id": "78f765e1",
   "metadata": {},
   "outputs": [
    {
     "data": {
      "text/plain": [
       "111"
      ]
     },
     "execution_count": 8,
     "metadata": {},
     "output_type": "execute_result"
    }
   ],
   "source": [
    "cast[cast.title=='North by Northwest'].title.count()"
   ]
  },
  {
   "cell_type": "markdown",
   "id": "48efe5b0",
   "metadata": {},
   "source": [
    "# 5.When was the first movie titled \"Hamlet\" made?"
   ]
  },
  {
   "cell_type": "code",
   "execution_count": 9,
   "id": "333120ec",
   "metadata": {},
   "outputs": [
    {
     "data": {
      "text/html": [
       "<div>\n",
       "<style scoped>\n",
       "    .dataframe tbody tr th:only-of-type {\n",
       "        vertical-align: middle;\n",
       "    }\n",
       "\n",
       "    .dataframe tbody tr th {\n",
       "        vertical-align: top;\n",
       "    }\n",
       "\n",
       "    .dataframe thead th {\n",
       "        text-align: right;\n",
       "    }\n",
       "</style>\n",
       "<table border=\"1\" class=\"dataframe\">\n",
       "  <thead>\n",
       "    <tr style=\"text-align: right;\">\n",
       "      <th></th>\n",
       "      <th></th>\n",
       "      <th></th>\n",
       "      <th></th>\n",
       "      <th>n</th>\n",
       "      <th>2.0</th>\n",
       "    </tr>\n",
       "    <tr>\n",
       "      <th>year</th>\n",
       "      <th>title</th>\n",
       "      <th>name</th>\n",
       "      <th>type</th>\n",
       "      <th>character</th>\n",
       "      <th></th>\n",
       "    </tr>\n",
       "  </thead>\n",
       "  <tbody>\n",
       "    <tr>\n",
       "      <th>1911</th>\n",
       "      <th>Hamlet</th>\n",
       "      <th>Aage Hertel</th>\n",
       "      <th>actor</th>\n",
       "      <th>Claudius</th>\n",
       "      <td>1</td>\n",
       "    </tr>\n",
       "  </tbody>\n",
       "</table>\n",
       "</div>"
      ],
      "text/plain": [
       "n                                        2.0\n",
       "year title  name        type  character     \n",
       "1911 Hamlet Aage Hertel actor Claudius     1"
      ]
     },
     "execution_count": 9,
     "metadata": {},
     "output_type": "execute_result"
    }
   ],
   "source": [
    "cast[cast.title=='Hamlet'].groupby('year').value_counts().head(1).unstack()"
   ]
  },
  {
   "cell_type": "markdown",
   "id": "ab13744f",
   "metadata": {},
   "source": [
    "# 6.List all of the \"Treasure Island\" movies from earliest to most recent."
   ]
  },
  {
   "cell_type": "code",
   "execution_count": 10,
   "id": "4045848d",
   "metadata": {},
   "outputs": [
    {
     "data": {
      "text/html": [
       "<div>\n",
       "<style scoped>\n",
       "    .dataframe tbody tr th:only-of-type {\n",
       "        vertical-align: middle;\n",
       "    }\n",
       "\n",
       "    .dataframe tbody tr th {\n",
       "        vertical-align: top;\n",
       "    }\n",
       "\n",
       "    .dataframe thead th {\n",
       "        text-align: right;\n",
       "    }\n",
       "</style>\n",
       "<table border=\"1\" class=\"dataframe\">\n",
       "  <thead>\n",
       "    <tr style=\"text-align: right;\">\n",
       "      <th></th>\n",
       "      <th>title</th>\n",
       "      <th>year</th>\n",
       "      <th>name</th>\n",
       "      <th>type</th>\n",
       "      <th>character</th>\n",
       "      <th>n</th>\n",
       "    </tr>\n",
       "  </thead>\n",
       "  <tbody>\n",
       "    <tr>\n",
       "      <th>1304778</th>\n",
       "      <td>Treasure Island</td>\n",
       "      <td>1918</td>\n",
       "      <td>Herschel Mayall</td>\n",
       "      <td>actor</td>\n",
       "      <td>Prologue Player</td>\n",
       "      <td>NaN</td>\n",
       "    </tr>\n",
       "    <tr>\n",
       "      <th>3258893</th>\n",
       "      <td>Treasure Island</td>\n",
       "      <td>1918</td>\n",
       "      <td>Eleanor Washington</td>\n",
       "      <td>actress</td>\n",
       "      <td>Prologue Player</td>\n",
       "      <td>NaN</td>\n",
       "    </tr>\n",
       "    <tr>\n",
       "      <th>3026895</th>\n",
       "      <td>Treasure Island</td>\n",
       "      <td>1918</td>\n",
       "      <td>Violet Radcliffe</td>\n",
       "      <td>actress</td>\n",
       "      <td>Long John Silver</td>\n",
       "      <td>3.0</td>\n",
       "    </tr>\n",
       "    <tr>\n",
       "      <th>1160631</th>\n",
       "      <td>Treasure Island</td>\n",
       "      <td>1918</td>\n",
       "      <td>Raymond Lee</td>\n",
       "      <td>actor</td>\n",
       "      <td>Bit Role</td>\n",
       "      <td>NaN</td>\n",
       "    </tr>\n",
       "    <tr>\n",
       "      <th>1188122</th>\n",
       "      <td>Treasure Island</td>\n",
       "      <td>1918</td>\n",
       "      <td>Elmo Lincoln</td>\n",
       "      <td>actor</td>\n",
       "      <td>Prologue Player</td>\n",
       "      <td>NaN</td>\n",
       "    </tr>\n",
       "    <tr>\n",
       "      <th>...</th>\n",
       "      <td>...</td>\n",
       "      <td>...</td>\n",
       "      <td>...</td>\n",
       "      <td>...</td>\n",
       "      <td>...</td>\n",
       "      <td>...</td>\n",
       "    </tr>\n",
       "    <tr>\n",
       "      <th>1653669</th>\n",
       "      <td>Treasure Island</td>\n",
       "      <td>1999</td>\n",
       "      <td>Victor Raider-Wexler</td>\n",
       "      <td>actor</td>\n",
       "      <td>Samowitz</td>\n",
       "      <td>10.0</td>\n",
       "    </tr>\n",
       "    <tr>\n",
       "      <th>1720561</th>\n",
       "      <td>Treasure Island</td>\n",
       "      <td>1999</td>\n",
       "      <td>Scot Thomas Robinson</td>\n",
       "      <td>actor</td>\n",
       "      <td>Jimmy</td>\n",
       "      <td>11.0</td>\n",
       "    </tr>\n",
       "    <tr>\n",
       "      <th>1802485</th>\n",
       "      <td>Treasure Island</td>\n",
       "      <td>1999</td>\n",
       "      <td>Richard Schave</td>\n",
       "      <td>actor</td>\n",
       "      <td>Man</td>\n",
       "      <td>21.0</td>\n",
       "    </tr>\n",
       "    <tr>\n",
       "      <th>2693149</th>\n",
       "      <td>Treasure Island</td>\n",
       "      <td>1999</td>\n",
       "      <td>Stephanie Ittleson</td>\n",
       "      <td>actress</td>\n",
       "      <td>Stella</td>\n",
       "      <td>7.0</td>\n",
       "    </tr>\n",
       "    <tr>\n",
       "      <th>810348</th>\n",
       "      <td>Treasure Island</td>\n",
       "      <td>1999</td>\n",
       "      <td>Rio Hackford</td>\n",
       "      <td>actor</td>\n",
       "      <td>Hans</td>\n",
       "      <td>23.0</td>\n",
       "    </tr>\n",
       "  </tbody>\n",
       "</table>\n",
       "<p>187 rows × 6 columns</p>\n",
       "</div>"
      ],
      "text/plain": [
       "                   title  year                  name     type  \\\n",
       "1304778  Treasure Island  1918       Herschel Mayall    actor   \n",
       "3258893  Treasure Island  1918    Eleanor Washington  actress   \n",
       "3026895  Treasure Island  1918      Violet Radcliffe  actress   \n",
       "1160631  Treasure Island  1918           Raymond Lee    actor   \n",
       "1188122  Treasure Island  1918          Elmo Lincoln    actor   \n",
       "...                  ...   ...                   ...      ...   \n",
       "1653669  Treasure Island  1999  Victor Raider-Wexler    actor   \n",
       "1720561  Treasure Island  1999  Scot Thomas Robinson    actor   \n",
       "1802485  Treasure Island  1999        Richard Schave    actor   \n",
       "2693149  Treasure Island  1999    Stephanie Ittleson  actress   \n",
       "810348   Treasure Island  1999          Rio Hackford    actor   \n",
       "\n",
       "                character     n  \n",
       "1304778   Prologue Player   NaN  \n",
       "3258893   Prologue Player   NaN  \n",
       "3026895  Long John Silver   3.0  \n",
       "1160631          Bit Role   NaN  \n",
       "1188122   Prologue Player   NaN  \n",
       "...                   ...   ...  \n",
       "1653669          Samowitz  10.0  \n",
       "1720561             Jimmy  11.0  \n",
       "1802485               Man  21.0  \n",
       "2693149            Stella   7.0  \n",
       "810348               Hans  23.0  \n",
       "\n",
       "[187 rows x 6 columns]"
      ]
     },
     "execution_count": 10,
     "metadata": {},
     "output_type": "execute_result"
    }
   ],
   "source": [
    "cast[cast.title=='Treasure Island'].sort_values(by='year')"
   ]
  },
  {
   "cell_type": "markdown",
   "id": "6ae4da15",
   "metadata": {},
   "source": [
    "# 7.How many movies were made in the year 1950?"
   ]
  },
  {
   "cell_type": "code",
   "execution_count": 11,
   "id": "ffc491bc",
   "metadata": {},
   "outputs": [
    {
     "data": {
      "text/plain": [
       "877"
      ]
     },
     "execution_count": 11,
     "metadata": {},
     "output_type": "execute_result"
    }
   ],
   "source": [
    "cast[cast.year==1950].title.value_counts().count()"
   ]
  },
  {
   "cell_type": "markdown",
   "id": "b76be376",
   "metadata": {},
   "source": [
    "# 8.How many movies were made in the year 1960?"
   ]
  },
  {
   "cell_type": "code",
   "execution_count": 12,
   "id": "1a2e036b",
   "metadata": {},
   "outputs": [
    {
     "data": {
      "text/plain": [
       "1034"
      ]
     },
     "execution_count": 12,
     "metadata": {},
     "output_type": "execute_result"
    }
   ],
   "source": [
    "cast[cast.year==1960].title.value_counts().count()"
   ]
  },
  {
   "cell_type": "markdown",
   "id": "3e4c2b6a",
   "metadata": {},
   "source": [
    "# 9.How many movies were made from 1950 through 1959?"
   ]
  },
  {
   "cell_type": "code",
   "execution_count": 13,
   "id": "52b88446",
   "metadata": {},
   "outputs": [
    {
     "data": {
      "text/plain": [
       "year  title                          \n",
       "1950  Gone to Earth                      294\n",
       "      Kill the Umpire                    135\n",
       "      Riding High                        113\n",
       "      When Willie Comes Marching Home    105\n",
       "      Black Hand                         103\n",
       "                                        ... \n",
       "1959  Tetsuwan toshu inao monogatari       1\n",
       "      The Lost Class of '59                1\n",
       "      Unpaid Debt                          1\n",
       "      Veter                                1\n",
       "      Vrata ostaju otvorena                1\n",
       "Name: title, Length: 9717, dtype: int64"
      ]
     },
     "execution_count": 13,
     "metadata": {},
     "output_type": "execute_result"
    }
   ],
   "source": [
    "a = range(1950,1960)\n",
    "filter_list=list(a)\n",
    "cast[cast.year.isin(filter_list)].groupby('year').title.value_counts()"
   ]
  },
  {
   "cell_type": "code",
   "execution_count": 41,
   "id": "e2334016",
   "metadata": {},
   "outputs": [
    {
     "data": {
      "text/plain": [
       "9717"
      ]
     },
     "execution_count": 41,
     "metadata": {},
     "output_type": "execute_result"
    }
   ],
   "source": [
    "cast[(cast.year>=1950)&(cast.year<=1959)].groupby('year').title.value_counts().count()"
   ]
  },
  {
   "cell_type": "markdown",
   "id": "598cefc3",
   "metadata": {},
   "source": [
    "# 10.In what years has a movie titled \"Batman\" been released?"
   ]
  },
  {
   "cell_type": "code",
   "execution_count": 15,
   "id": "445507d8",
   "metadata": {},
   "outputs": [
    {
     "data": {
      "text/plain": [
       "year  title \n",
       "1943  Batman    52\n",
       "1989  Batman    66\n",
       "Name: title, dtype: int64"
      ]
     },
     "execution_count": 15,
     "metadata": {},
     "output_type": "execute_result"
    }
   ],
   "source": [
    "cast[cast.title=='Batman'].groupby('year').title.value_counts()"
   ]
  },
  {
   "cell_type": "markdown",
   "id": "162215f2",
   "metadata": {},
   "source": [
    "# 11.How many roles were there in the movie \"Inception\"?"
   ]
  },
  {
   "cell_type": "code",
   "execution_count": 16,
   "id": "515382c6",
   "metadata": {
    "scrolled": false
   },
   "outputs": [
    {
     "data": {
      "text/plain": [
       "51"
      ]
     },
     "execution_count": 16,
     "metadata": {},
     "output_type": "execute_result"
    }
   ],
   "source": [
    "cast[(cast.title=='Inception')].character.nunique()"
   ]
  },
  {
   "cell_type": "markdown",
   "id": "28e42405",
   "metadata": {},
   "source": [
    "# 12.How many roles in the movie \"Inception\" are NOT ranked by an \"n\" value?"
   ]
  },
  {
   "cell_type": "code",
   "execution_count": 17,
   "id": "b4ef7cae",
   "metadata": {},
   "outputs": [
    {
     "data": {
      "text/plain": [
       "21"
      ]
     },
     "execution_count": 17,
     "metadata": {},
     "output_type": "execute_result"
    }
   ],
   "source": [
    "len(cast[(cast.title==\"Inception\")&(cast.n.isnull())])"
   ]
  },
  {
   "cell_type": "markdown",
   "id": "e3244288",
   "metadata": {},
   "source": [
    "# 13.But how many roles in the movie \"Inception\" did receive an \"n\" value?"
   ]
  },
  {
   "cell_type": "code",
   "execution_count": 18,
   "id": "4e2fe008",
   "metadata": {},
   "outputs": [
    {
     "data": {
      "text/plain": [
       "51"
      ]
     },
     "execution_count": 18,
     "metadata": {},
     "output_type": "execute_result"
    }
   ],
   "source": [
    "len(cast[(cast.title==\"Inception\")&(cast.n.notnull())])"
   ]
  },
  {
   "cell_type": "markdown",
   "id": "9d9b9d6a",
   "metadata": {},
   "source": [
    "# 14.Display the cast of \"North by Northwest\" in their correct \"n\"-value order, ignoring roles that did not earn a numeric \"n\" value."
   ]
  },
  {
   "cell_type": "code",
   "execution_count": 19,
   "id": "a0b863ee",
   "metadata": {},
   "outputs": [
    {
     "data": {
      "text/html": [
       "<div>\n",
       "<style scoped>\n",
       "    .dataframe tbody tr th:only-of-type {\n",
       "        vertical-align: middle;\n",
       "    }\n",
       "\n",
       "    .dataframe tbody tr th {\n",
       "        vertical-align: top;\n",
       "    }\n",
       "\n",
       "    .dataframe thead th {\n",
       "        text-align: right;\n",
       "    }\n",
       "</style>\n",
       "<table border=\"1\" class=\"dataframe\">\n",
       "  <thead>\n",
       "    <tr style=\"text-align: right;\">\n",
       "      <th></th>\n",
       "      <th>title</th>\n",
       "      <th>year</th>\n",
       "      <th>name</th>\n",
       "      <th>type</th>\n",
       "      <th>character</th>\n",
       "      <th>n</th>\n",
       "    </tr>\n",
       "  </thead>\n",
       "  <tbody>\n",
       "    <tr>\n",
       "      <th>773496</th>\n",
       "      <td>North by Northwest</td>\n",
       "      <td>1959</td>\n",
       "      <td>Cary Grant</td>\n",
       "      <td>actor</td>\n",
       "      <td>Roger O. Thornhill</td>\n",
       "      <td>1.0</td>\n",
       "    </tr>\n",
       "    <tr>\n",
       "      <th>3084579</th>\n",
       "      <td>North by Northwest</td>\n",
       "      <td>1959</td>\n",
       "      <td>Eva Marie Saint</td>\n",
       "      <td>actress</td>\n",
       "      <td>Eve Kendall</td>\n",
       "      <td>2.0</td>\n",
       "    </tr>\n",
       "    <tr>\n",
       "      <th>1292652</th>\n",
       "      <td>North by Northwest</td>\n",
       "      <td>1959</td>\n",
       "      <td>James Mason</td>\n",
       "      <td>actor</td>\n",
       "      <td>Phillip Vandamm</td>\n",
       "      <td>3.0</td>\n",
       "    </tr>\n",
       "    <tr>\n",
       "      <th>2776446</th>\n",
       "      <td>North by Northwest</td>\n",
       "      <td>1959</td>\n",
       "      <td>Jessie Royce Landis</td>\n",
       "      <td>actress</td>\n",
       "      <td>Clara Thornhill</td>\n",
       "      <td>4.0</td>\n",
       "    </tr>\n",
       "    <tr>\n",
       "      <th>315343</th>\n",
       "      <td>North by Northwest</td>\n",
       "      <td>1959</td>\n",
       "      <td>Leo G. Carroll</td>\n",
       "      <td>actor</td>\n",
       "      <td>The Professor</td>\n",
       "      <td>5.0</td>\n",
       "    </tr>\n",
       "    <tr>\n",
       "      <th>2685171</th>\n",
       "      <td>North by Northwest</td>\n",
       "      <td>1959</td>\n",
       "      <td>Josephine Hutchinson</td>\n",
       "      <td>actress</td>\n",
       "      <td>Mrs. Townsend</td>\n",
       "      <td>6.0</td>\n",
       "    </tr>\n",
       "    <tr>\n",
       "      <th>1504777</th>\n",
       "      <td>North by Northwest</td>\n",
       "      <td>1959</td>\n",
       "      <td>Philip Ober</td>\n",
       "      <td>actor</td>\n",
       "      <td>Lester Townsend</td>\n",
       "      <td>7.0</td>\n",
       "    </tr>\n",
       "    <tr>\n",
       "      <th>1130557</th>\n",
       "      <td>North by Northwest</td>\n",
       "      <td>1959</td>\n",
       "      <td>Martin Landau</td>\n",
       "      <td>actor</td>\n",
       "      <td>Leonard</td>\n",
       "      <td>8.0</td>\n",
       "    </tr>\n",
       "    <tr>\n",
       "      <th>2167754</th>\n",
       "      <td>North by Northwest</td>\n",
       "      <td>1959</td>\n",
       "      <td>Adam Williams</td>\n",
       "      <td>actor</td>\n",
       "      <td>Valerian</td>\n",
       "      <td>9.0</td>\n",
       "    </tr>\n",
       "    <tr>\n",
       "      <th>1607029</th>\n",
       "      <td>North by Northwest</td>\n",
       "      <td>1959</td>\n",
       "      <td>Edward Platt</td>\n",
       "      <td>actor</td>\n",
       "      <td>Victor Larrabee</td>\n",
       "      <td>10.0</td>\n",
       "    </tr>\n",
       "    <tr>\n",
       "      <th>590702</th>\n",
       "      <td>North by Northwest</td>\n",
       "      <td>1959</td>\n",
       "      <td>Robert Ellenstein</td>\n",
       "      <td>actor</td>\n",
       "      <td>Licht</td>\n",
       "      <td>11.0</td>\n",
       "    </tr>\n",
       "    <tr>\n",
       "      <th>2033529</th>\n",
       "      <td>North by Northwest</td>\n",
       "      <td>1959</td>\n",
       "      <td>Les Tremayne</td>\n",
       "      <td>actor</td>\n",
       "      <td>Auctioneer</td>\n",
       "      <td>12.0</td>\n",
       "    </tr>\n",
       "    <tr>\n",
       "      <th>411247</th>\n",
       "      <td>North by Northwest</td>\n",
       "      <td>1959</td>\n",
       "      <td>Philip Coolidge</td>\n",
       "      <td>actor</td>\n",
       "      <td>Dr. Cross</td>\n",
       "      <td>13.0</td>\n",
       "    </tr>\n",
       "    <tr>\n",
       "      <th>1339004</th>\n",
       "      <td>North by Northwest</td>\n",
       "      <td>1959</td>\n",
       "      <td>Patrick McVey</td>\n",
       "      <td>actor</td>\n",
       "      <td>Sergeant Flamm</td>\n",
       "      <td>14.0</td>\n",
       "    </tr>\n",
       "    <tr>\n",
       "      <th>180985</th>\n",
       "      <td>North by Northwest</td>\n",
       "      <td>1959</td>\n",
       "      <td>Edward Binns</td>\n",
       "      <td>actor</td>\n",
       "      <td>Captain Junket</td>\n",
       "      <td>15.0</td>\n",
       "    </tr>\n",
       "    <tr>\n",
       "      <th>1228229</th>\n",
       "      <td>North by Northwest</td>\n",
       "      <td>1959</td>\n",
       "      <td>Ken Lynch</td>\n",
       "      <td>actor</td>\n",
       "      <td>Charley - Chicago Policeman</td>\n",
       "      <td>16.0</td>\n",
       "    </tr>\n",
       "  </tbody>\n",
       "</table>\n",
       "</div>"
      ],
      "text/plain": [
       "                      title  year                  name     type  \\\n",
       "773496   North by Northwest  1959            Cary Grant    actor   \n",
       "3084579  North by Northwest  1959       Eva Marie Saint  actress   \n",
       "1292652  North by Northwest  1959           James Mason    actor   \n",
       "2776446  North by Northwest  1959   Jessie Royce Landis  actress   \n",
       "315343   North by Northwest  1959        Leo G. Carroll    actor   \n",
       "2685171  North by Northwest  1959  Josephine Hutchinson  actress   \n",
       "1504777  North by Northwest  1959           Philip Ober    actor   \n",
       "1130557  North by Northwest  1959         Martin Landau    actor   \n",
       "2167754  North by Northwest  1959         Adam Williams    actor   \n",
       "1607029  North by Northwest  1959          Edward Platt    actor   \n",
       "590702   North by Northwest  1959     Robert Ellenstein    actor   \n",
       "2033529  North by Northwest  1959          Les Tremayne    actor   \n",
       "411247   North by Northwest  1959       Philip Coolidge    actor   \n",
       "1339004  North by Northwest  1959         Patrick McVey    actor   \n",
       "180985   North by Northwest  1959          Edward Binns    actor   \n",
       "1228229  North by Northwest  1959             Ken Lynch    actor   \n",
       "\n",
       "                           character     n  \n",
       "773496            Roger O. Thornhill   1.0  \n",
       "3084579                  Eve Kendall   2.0  \n",
       "1292652              Phillip Vandamm   3.0  \n",
       "2776446              Clara Thornhill   4.0  \n",
       "315343                 The Professor   5.0  \n",
       "2685171                Mrs. Townsend   6.0  \n",
       "1504777              Lester Townsend   7.0  \n",
       "1130557                      Leonard   8.0  \n",
       "2167754                     Valerian   9.0  \n",
       "1607029              Victor Larrabee  10.0  \n",
       "590702                         Licht  11.0  \n",
       "2033529                   Auctioneer  12.0  \n",
       "411247                     Dr. Cross  13.0  \n",
       "1339004               Sergeant Flamm  14.0  \n",
       "180985                Captain Junket  15.0  \n",
       "1228229  Charley - Chicago Policeman  16.0  "
      ]
     },
     "execution_count": 19,
     "metadata": {},
     "output_type": "execute_result"
    }
   ],
   "source": [
    "cast[(cast.title=='North by Northwest')&(cast.n.notnull())].sort_values(by='n')"
   ]
  },
  {
   "cell_type": "markdown",
   "id": "b0628955",
   "metadata": {},
   "source": [
    "# 15.Display the entire cast, in \"n\"-order, of the 1972 film \"Sleuth\"."
   ]
  },
  {
   "cell_type": "code",
   "execution_count": 20,
   "id": "98aa5e1a",
   "metadata": {},
   "outputs": [
    {
     "data": {
      "text/html": [
       "<div>\n",
       "<style scoped>\n",
       "    .dataframe tbody tr th:only-of-type {\n",
       "        vertical-align: middle;\n",
       "    }\n",
       "\n",
       "    .dataframe tbody tr th {\n",
       "        vertical-align: top;\n",
       "    }\n",
       "\n",
       "    .dataframe thead th {\n",
       "        text-align: right;\n",
       "    }\n",
       "</style>\n",
       "<table border=\"1\" class=\"dataframe\">\n",
       "  <thead>\n",
       "    <tr style=\"text-align: right;\">\n",
       "      <th></th>\n",
       "      <th>title</th>\n",
       "      <th>year</th>\n",
       "      <th>name</th>\n",
       "      <th>type</th>\n",
       "      <th>character</th>\n",
       "      <th>n</th>\n",
       "    </tr>\n",
       "  </thead>\n",
       "  <tbody>\n",
       "    <tr>\n",
       "      <th>1513570</th>\n",
       "      <td>Sleuth</td>\n",
       "      <td>1972</td>\n",
       "      <td>Laurence Olivier</td>\n",
       "      <td>actor</td>\n",
       "      <td>Andrew Wyke</td>\n",
       "      <td>1.0</td>\n",
       "    </tr>\n",
       "    <tr>\n",
       "      <th>288502</th>\n",
       "      <td>Sleuth</td>\n",
       "      <td>1972</td>\n",
       "      <td>Michael Caine</td>\n",
       "      <td>actor</td>\n",
       "      <td>Milo Tindle</td>\n",
       "      <td>2.0</td>\n",
       "    </tr>\n",
       "    <tr>\n",
       "      <th>330750</th>\n",
       "      <td>Sleuth</td>\n",
       "      <td>1972</td>\n",
       "      <td>Alec Cawthorne</td>\n",
       "      <td>actor</td>\n",
       "      <td>Inspector Doppler</td>\n",
       "      <td>3.0</td>\n",
       "    </tr>\n",
       "    <tr>\n",
       "      <th>1299944</th>\n",
       "      <td>Sleuth</td>\n",
       "      <td>1972</td>\n",
       "      <td>John (II) Matthews</td>\n",
       "      <td>actor</td>\n",
       "      <td>Detective Sergeant Tarrant</td>\n",
       "      <td>4.0</td>\n",
       "    </tr>\n",
       "    <tr>\n",
       "      <th>2406762</th>\n",
       "      <td>Sleuth</td>\n",
       "      <td>1972</td>\n",
       "      <td>Eve (III) Channing</td>\n",
       "      <td>actress</td>\n",
       "      <td>Marguerite Wyke</td>\n",
       "      <td>5.0</td>\n",
       "    </tr>\n",
       "    <tr>\n",
       "      <th>1285278</th>\n",
       "      <td>Sleuth</td>\n",
       "      <td>1972</td>\n",
       "      <td>Teddy Martin</td>\n",
       "      <td>actor</td>\n",
       "      <td>Police Constable Higgs</td>\n",
       "      <td>6.0</td>\n",
       "    </tr>\n",
       "  </tbody>\n",
       "</table>\n",
       "</div>"
      ],
      "text/plain": [
       "          title  year                name     type  \\\n",
       "1513570  Sleuth  1972    Laurence Olivier    actor   \n",
       "288502   Sleuth  1972       Michael Caine    actor   \n",
       "330750   Sleuth  1972      Alec Cawthorne    actor   \n",
       "1299944  Sleuth  1972  John (II) Matthews    actor   \n",
       "2406762  Sleuth  1972  Eve (III) Channing  actress   \n",
       "1285278  Sleuth  1972        Teddy Martin    actor   \n",
       "\n",
       "                          character    n  \n",
       "1513570                 Andrew Wyke  1.0  \n",
       "288502                  Milo Tindle  2.0  \n",
       "330750            Inspector Doppler  3.0  \n",
       "1299944  Detective Sergeant Tarrant  4.0  \n",
       "2406762             Marguerite Wyke  5.0  \n",
       "1285278      Police Constable Higgs  6.0  "
      ]
     },
     "execution_count": 20,
     "metadata": {},
     "output_type": "execute_result"
    }
   ],
   "source": [
    "cast[(cast.title=='Sleuth')&(cast.year==1972)&(cast.n)].sort_values(by='n')"
   ]
  },
  {
   "cell_type": "markdown",
   "id": "d3aca1e3",
   "metadata": {},
   "source": [
    "# 16.Now display the entire cast, in \"n\"-order, of the 2007 version of \"Sleuth\"."
   ]
  },
  {
   "cell_type": "code",
   "execution_count": 21,
   "id": "0bcb1f23",
   "metadata": {},
   "outputs": [
    {
     "data": {
      "text/html": [
       "<div>\n",
       "<style scoped>\n",
       "    .dataframe tbody tr th:only-of-type {\n",
       "        vertical-align: middle;\n",
       "    }\n",
       "\n",
       "    .dataframe tbody tr th {\n",
       "        vertical-align: top;\n",
       "    }\n",
       "\n",
       "    .dataframe thead th {\n",
       "        text-align: right;\n",
       "    }\n",
       "</style>\n",
       "<table border=\"1\" class=\"dataframe\">\n",
       "  <thead>\n",
       "    <tr style=\"text-align: right;\">\n",
       "      <th></th>\n",
       "      <th>title</th>\n",
       "      <th>year</th>\n",
       "      <th>name</th>\n",
       "      <th>type</th>\n",
       "      <th>character</th>\n",
       "      <th>n</th>\n",
       "    </tr>\n",
       "  </thead>\n",
       "  <tbody>\n",
       "    <tr>\n",
       "      <th>288503</th>\n",
       "      <td>Sleuth</td>\n",
       "      <td>2007</td>\n",
       "      <td>Michael Caine</td>\n",
       "      <td>actor</td>\n",
       "      <td>Andrew</td>\n",
       "      <td>1.0</td>\n",
       "    </tr>\n",
       "    <tr>\n",
       "      <th>1147041</th>\n",
       "      <td>Sleuth</td>\n",
       "      <td>2007</td>\n",
       "      <td>Jude Law</td>\n",
       "      <td>actor</td>\n",
       "      <td>Milo</td>\n",
       "      <td>2.0</td>\n",
       "    </tr>\n",
       "    <tr>\n",
       "      <th>1602268</th>\n",
       "      <td>Sleuth</td>\n",
       "      <td>2007</td>\n",
       "      <td>Harold Pinter</td>\n",
       "      <td>actor</td>\n",
       "      <td>Man on T.V.</td>\n",
       "      <td>3.0</td>\n",
       "    </tr>\n",
       "  </tbody>\n",
       "</table>\n",
       "</div>"
      ],
      "text/plain": [
       "          title  year           name   type    character    n\n",
       "288503   Sleuth  2007  Michael Caine  actor       Andrew  1.0\n",
       "1147041  Sleuth  2007       Jude Law  actor         Milo  2.0\n",
       "1602268  Sleuth  2007  Harold Pinter  actor  Man on T.V.  3.0"
      ]
     },
     "execution_count": 21,
     "metadata": {},
     "output_type": "execute_result"
    }
   ],
   "source": [
    "cast[(cast.title=='Sleuth')&(cast.year==2007)&(cast.n)].sort_values(by='n')"
   ]
  },
  {
   "cell_type": "markdown",
   "id": "8ac00348",
   "metadata": {},
   "source": [
    "# 17.How many roles were credited in the silent 1921 version of Hamlet?"
   ]
  },
  {
   "cell_type": "code",
   "execution_count": 22,
   "id": "2c083c24",
   "metadata": {},
   "outputs": [
    {
     "data": {
      "text/plain": [
       "9"
      ]
     },
     "execution_count": 22,
     "metadata": {},
     "output_type": "execute_result"
    }
   ],
   "source": [
    "cast[(cast.year==1921)&(cast.title=='Hamlet')&(cast.character)].title.count()"
   ]
  },
  {
   "cell_type": "markdown",
   "id": "088ffd6d",
   "metadata": {},
   "source": [
    "# 18.How many roles were credited in Branagh’s 1996 Hamlet?"
   ]
  },
  {
   "cell_type": "code",
   "execution_count": 23,
   "id": "eadf03ad",
   "metadata": {},
   "outputs": [
    {
     "data": {
      "text/plain": [
       "1"
      ]
     },
     "execution_count": 23,
     "metadata": {},
     "output_type": "execute_result"
    }
   ],
   "source": [
    "cast[(cast.title==\"Hamlet\")&(cast.year==1996)&(cast.name.str.contains('Branagh'))].character.nunique()"
   ]
  },
  {
   "cell_type": "markdown",
   "id": "8372555c",
   "metadata": {},
   "source": [
    "# 19.How many \"Hamlet\" roles have been listed in all film credits through history?"
   ]
  },
  {
   "cell_type": "code",
   "execution_count": 24,
   "id": "85cd97cd",
   "metadata": {},
   "outputs": [
    {
     "data": {
      "text/plain": [
       "62"
      ]
     },
     "execution_count": 24,
     "metadata": {},
     "output_type": "execute_result"
    }
   ],
   "source": [
    "cast[cast.character=='Hamlet'].title.nunique()"
   ]
  },
  {
   "cell_type": "markdown",
   "id": "c299b99c",
   "metadata": {},
   "source": [
    "# 20.How many people have played an \"Ophelia\"?"
   ]
  },
  {
   "cell_type": "code",
   "execution_count": 25,
   "id": "aa7f3aea",
   "metadata": {},
   "outputs": [
    {
     "data": {
      "text/plain": [
       "94"
      ]
     },
     "execution_count": 25,
     "metadata": {},
     "output_type": "execute_result"
    }
   ],
   "source": [
    "cast[(cast.character=='Ophelia')].name.nunique()"
   ]
  },
  {
   "cell_type": "markdown",
   "id": "cc507807",
   "metadata": {},
   "source": [
    "# 21.How many people have played a role called \"The Dude\"?"
   ]
  },
  {
   "cell_type": "code",
   "execution_count": 26,
   "id": "212b7cc3",
   "metadata": {},
   "outputs": [
    {
     "data": {
      "text/plain": [
       "16"
      ]
     },
     "execution_count": 26,
     "metadata": {},
     "output_type": "execute_result"
    }
   ],
   "source": [
    "cast[(cast.character=='The Dude')&(cast.name)].name.nunique()"
   ]
  },
  {
   "cell_type": "markdown",
   "id": "c23559c1",
   "metadata": {},
   "source": [
    "# 22.How many people have played a role called \"The Stranger\"?"
   ]
  },
  {
   "cell_type": "code",
   "execution_count": 27,
   "id": "50df9205",
   "metadata": {},
   "outputs": [
    {
     "data": {
      "text/plain": [
       "184"
      ]
     },
     "execution_count": 27,
     "metadata": {},
     "output_type": "execute_result"
    }
   ],
   "source": [
    "cast[(cast.character=='The Stranger')&(cast.name)].name.nunique()"
   ]
  },
  {
   "cell_type": "markdown",
   "id": "77a4c3ce",
   "metadata": {},
   "source": [
    "# 23.How many roles has Sidney Poitier played throughout his career?"
   ]
  },
  {
   "cell_type": "code",
   "execution_count": 28,
   "id": "b614bf6a",
   "metadata": {},
   "outputs": [
    {
     "data": {
      "text/plain": [
       "41"
      ]
     },
     "execution_count": 28,
     "metadata": {},
     "output_type": "execute_result"
    }
   ],
   "source": [
    "cast[cast.name=='Sidney Poitier'].character.nunique()"
   ]
  },
  {
   "cell_type": "markdown",
   "id": "59f84572",
   "metadata": {},
   "source": [
    "# 24.How many roles has Judi Dench played?"
   ]
  },
  {
   "cell_type": "code",
   "execution_count": 29,
   "id": "99ca18c6",
   "metadata": {},
   "outputs": [
    {
     "data": {
      "text/plain": [
       "44"
      ]
     },
     "execution_count": 29,
     "metadata": {},
     "output_type": "execute_result"
    }
   ],
   "source": [
    "cast[cast.name=='Judi Dench'].character.nunique()"
   ]
  },
  {
   "cell_type": "markdown",
   "id": "1ed1931f",
   "metadata": {},
   "source": [
    "# 25.List the supporting roles (having n=2) played by Cary Grant in the 1940s, in order by year."
   ]
  },
  {
   "cell_type": "code",
   "execution_count": 30,
   "id": "673e01cf",
   "metadata": {},
   "outputs": [
    {
     "data": {
      "text/html": [
       "<div>\n",
       "<style scoped>\n",
       "    .dataframe tbody tr th:only-of-type {\n",
       "        vertical-align: middle;\n",
       "    }\n",
       "\n",
       "    .dataframe tbody tr th {\n",
       "        vertical-align: top;\n",
       "    }\n",
       "\n",
       "    .dataframe thead th {\n",
       "        text-align: right;\n",
       "    }\n",
       "</style>\n",
       "<table border=\"1\" class=\"dataframe\">\n",
       "  <thead>\n",
       "    <tr style=\"text-align: right;\">\n",
       "      <th></th>\n",
       "      <th>title</th>\n",
       "      <th>year</th>\n",
       "      <th>name</th>\n",
       "      <th>type</th>\n",
       "      <th>character</th>\n",
       "      <th>n</th>\n",
       "    </tr>\n",
       "  </thead>\n",
       "  <tbody>\n",
       "    <tr>\n",
       "      <th>773493</th>\n",
       "      <td>My Favorite Wife</td>\n",
       "      <td>1940</td>\n",
       "      <td>Cary Grant</td>\n",
       "      <td>actor</td>\n",
       "      <td>Nick</td>\n",
       "      <td>2.0</td>\n",
       "    </tr>\n",
       "    <tr>\n",
       "      <th>773503</th>\n",
       "      <td>Penny Serenade</td>\n",
       "      <td>1941</td>\n",
       "      <td>Cary Grant</td>\n",
       "      <td>actor</td>\n",
       "      <td>Roger Adams</td>\n",
       "      <td>2.0</td>\n",
       "    </tr>\n",
       "  </tbody>\n",
       "</table>\n",
       "</div>"
      ],
      "text/plain": [
       "                   title  year        name   type    character    n\n",
       "773493  My Favorite Wife  1940  Cary Grant  actor         Nick  2.0\n",
       "773503    Penny Serenade  1941  Cary Grant  actor  Roger Adams  2.0"
      ]
     },
     "execution_count": 30,
     "metadata": {},
     "output_type": "execute_result"
    }
   ],
   "source": [
    "cast[(cast.name=='Cary Grant')&(cast.n==2.0)&(cast.year>=1940)&(cast.year<=1949)].sort_values(by='year')"
   ]
  },
  {
   "cell_type": "markdown",
   "id": "36e3f422",
   "metadata": {},
   "source": [
    "# 26.List the leading roles that Cary Grant played in the 1940s in order by year."
   ]
  },
  {
   "cell_type": "code",
   "execution_count": 31,
   "id": "3597d070",
   "metadata": {},
   "outputs": [
    {
     "data": {
      "text/html": [
       "<div>\n",
       "<style scoped>\n",
       "    .dataframe tbody tr th:only-of-type {\n",
       "        vertical-align: middle;\n",
       "    }\n",
       "\n",
       "    .dataframe tbody tr th {\n",
       "        vertical-align: top;\n",
       "    }\n",
       "\n",
       "    .dataframe thead th {\n",
       "        text-align: right;\n",
       "    }\n",
       "</style>\n",
       "<table border=\"1\" class=\"dataframe\">\n",
       "  <thead>\n",
       "    <tr style=\"text-align: right;\">\n",
       "      <th></th>\n",
       "      <th>title</th>\n",
       "      <th>year</th>\n",
       "      <th>name</th>\n",
       "      <th>type</th>\n",
       "      <th>character</th>\n",
       "      <th>n</th>\n",
       "    </tr>\n",
       "  </thead>\n",
       "  <tbody>\n",
       "    <tr>\n",
       "      <th>773518</th>\n",
       "      <td>The Howards of Virginia</td>\n",
       "      <td>1940</td>\n",
       "      <td>Cary Grant</td>\n",
       "      <td>actor</td>\n",
       "      <td>Matt Howard</td>\n",
       "      <td>1.0</td>\n",
       "    </tr>\n",
       "    <tr>\n",
       "      <th>773475</th>\n",
       "      <td>His Girl Friday</td>\n",
       "      <td>1940</td>\n",
       "      <td>Cary Grant</td>\n",
       "      <td>actor</td>\n",
       "      <td>Walter Burns</td>\n",
       "      <td>1.0</td>\n",
       "    </tr>\n",
       "    <tr>\n",
       "      <th>773520</th>\n",
       "      <td>The Philadelphia Story</td>\n",
       "      <td>1940</td>\n",
       "      <td>Cary Grant</td>\n",
       "      <td>actor</td>\n",
       "      <td>C. K. Dexter Haven</td>\n",
       "      <td>1.0</td>\n",
       "    </tr>\n",
       "    <tr>\n",
       "      <th>773508</th>\n",
       "      <td>Suspicion</td>\n",
       "      <td>1941</td>\n",
       "      <td>Cary Grant</td>\n",
       "      <td>actor</td>\n",
       "      <td>Johnnie</td>\n",
       "      <td>1.0</td>\n",
       "    </tr>\n",
       "    <tr>\n",
       "      <th>773522</th>\n",
       "      <td>The Talk of the Town</td>\n",
       "      <td>1942</td>\n",
       "      <td>Cary Grant</td>\n",
       "      <td>actor</td>\n",
       "      <td>Leopold Dilg</td>\n",
       "      <td>1.0</td>\n",
       "    </tr>\n",
       "    <tr>\n",
       "      <th>773499</th>\n",
       "      <td>Once Upon a Honeymoon</td>\n",
       "      <td>1942</td>\n",
       "      <td>Cary Grant</td>\n",
       "      <td>actor</td>\n",
       "      <td>Patrick 'Pat' O'Toole</td>\n",
       "      <td>1.0</td>\n",
       "    </tr>\n",
       "    <tr>\n",
       "      <th>773466</th>\n",
       "      <td>Destination Tokyo</td>\n",
       "      <td>1943</td>\n",
       "      <td>Cary Grant</td>\n",
       "      <td>actor</td>\n",
       "      <td>Capt. Cassidy</td>\n",
       "      <td>1.0</td>\n",
       "    </tr>\n",
       "    <tr>\n",
       "      <th>773491</th>\n",
       "      <td>Mr. Lucky</td>\n",
       "      <td>1943</td>\n",
       "      <td>Cary Grant</td>\n",
       "      <td>actor</td>\n",
       "      <td>Joe Adams</td>\n",
       "      <td>1.0</td>\n",
       "    </tr>\n",
       "    <tr>\n",
       "      <th>773492</th>\n",
       "      <td>Mr. Lucky</td>\n",
       "      <td>1943</td>\n",
       "      <td>Cary Grant</td>\n",
       "      <td>actor</td>\n",
       "      <td>Joe Bascopolous</td>\n",
       "      <td>1.0</td>\n",
       "    </tr>\n",
       "    <tr>\n",
       "      <th>773500</th>\n",
       "      <td>Once Upon a Time</td>\n",
       "      <td>1944</td>\n",
       "      <td>Cary Grant</td>\n",
       "      <td>actor</td>\n",
       "      <td>Jerry Flynn</td>\n",
       "      <td>1.0</td>\n",
       "    </tr>\n",
       "    <tr>\n",
       "      <th>773458</th>\n",
       "      <td>Arsenic and Old Lace</td>\n",
       "      <td>1944</td>\n",
       "      <td>Cary Grant</td>\n",
       "      <td>actor</td>\n",
       "      <td>Mortimer Brewster</td>\n",
       "      <td>1.0</td>\n",
       "    </tr>\n",
       "    <tr>\n",
       "      <th>773495</th>\n",
       "      <td>None But the Lonely Heart</td>\n",
       "      <td>1944</td>\n",
       "      <td>Cary Grant</td>\n",
       "      <td>actor</td>\n",
       "      <td>Ernie Mott</td>\n",
       "      <td>1.0</td>\n",
       "    </tr>\n",
       "    <tr>\n",
       "      <th>773494</th>\n",
       "      <td>Night and Day</td>\n",
       "      <td>1946</td>\n",
       "      <td>Cary Grant</td>\n",
       "      <td>actor</td>\n",
       "      <td>Cole Porter</td>\n",
       "      <td>1.0</td>\n",
       "    </tr>\n",
       "    <tr>\n",
       "      <th>773497</th>\n",
       "      <td>Notorious</td>\n",
       "      <td>1946</td>\n",
       "      <td>Cary Grant</td>\n",
       "      <td>actor</td>\n",
       "      <td>Devlin</td>\n",
       "      <td>1.0</td>\n",
       "    </tr>\n",
       "    <tr>\n",
       "      <th>773514</th>\n",
       "      <td>The Bachelor and the Bobby-Soxer</td>\n",
       "      <td>1947</td>\n",
       "      <td>Cary Grant</td>\n",
       "      <td>actor</td>\n",
       "      <td>Dick</td>\n",
       "      <td>1.0</td>\n",
       "    </tr>\n",
       "    <tr>\n",
       "      <th>773515</th>\n",
       "      <td>The Bishop's Wife</td>\n",
       "      <td>1947</td>\n",
       "      <td>Cary Grant</td>\n",
       "      <td>actor</td>\n",
       "      <td>Dudley</td>\n",
       "      <td>1.0</td>\n",
       "    </tr>\n",
       "    <tr>\n",
       "      <th>773490</th>\n",
       "      <td>Mr. Blandings Builds His Dream House</td>\n",
       "      <td>1948</td>\n",
       "      <td>Cary Grant</td>\n",
       "      <td>actor</td>\n",
       "      <td>Jim Blandings</td>\n",
       "      <td>1.0</td>\n",
       "    </tr>\n",
       "    <tr>\n",
       "      <th>773470</th>\n",
       "      <td>Every Girl Should Be Married</td>\n",
       "      <td>1948</td>\n",
       "      <td>Cary Grant</td>\n",
       "      <td>actor</td>\n",
       "      <td>Dr. Madison Brown</td>\n",
       "      <td>1.0</td>\n",
       "    </tr>\n",
       "    <tr>\n",
       "      <th>773479</th>\n",
       "      <td>I Was a Male War Bride</td>\n",
       "      <td>1949</td>\n",
       "      <td>Cary Grant</td>\n",
       "      <td>actor</td>\n",
       "      <td>Capt. Henri Rochard</td>\n",
       "      <td>1.0</td>\n",
       "    </tr>\n",
       "  </tbody>\n",
       "</table>\n",
       "</div>"
      ],
      "text/plain": [
       "                                       title  year        name   type  \\\n",
       "773518               The Howards of Virginia  1940  Cary Grant  actor   \n",
       "773475                       His Girl Friday  1940  Cary Grant  actor   \n",
       "773520                The Philadelphia Story  1940  Cary Grant  actor   \n",
       "773508                             Suspicion  1941  Cary Grant  actor   \n",
       "773522                  The Talk of the Town  1942  Cary Grant  actor   \n",
       "773499                 Once Upon a Honeymoon  1942  Cary Grant  actor   \n",
       "773466                     Destination Tokyo  1943  Cary Grant  actor   \n",
       "773491                             Mr. Lucky  1943  Cary Grant  actor   \n",
       "773492                             Mr. Lucky  1943  Cary Grant  actor   \n",
       "773500                      Once Upon a Time  1944  Cary Grant  actor   \n",
       "773458                  Arsenic and Old Lace  1944  Cary Grant  actor   \n",
       "773495             None But the Lonely Heart  1944  Cary Grant  actor   \n",
       "773494                         Night and Day  1946  Cary Grant  actor   \n",
       "773497                             Notorious  1946  Cary Grant  actor   \n",
       "773514      The Bachelor and the Bobby-Soxer  1947  Cary Grant  actor   \n",
       "773515                     The Bishop's Wife  1947  Cary Grant  actor   \n",
       "773490  Mr. Blandings Builds His Dream House  1948  Cary Grant  actor   \n",
       "773470          Every Girl Should Be Married  1948  Cary Grant  actor   \n",
       "773479                I Was a Male War Bride  1949  Cary Grant  actor   \n",
       "\n",
       "                    character    n  \n",
       "773518            Matt Howard  1.0  \n",
       "773475           Walter Burns  1.0  \n",
       "773520     C. K. Dexter Haven  1.0  \n",
       "773508                Johnnie  1.0  \n",
       "773522           Leopold Dilg  1.0  \n",
       "773499  Patrick 'Pat' O'Toole  1.0  \n",
       "773466          Capt. Cassidy  1.0  \n",
       "773491              Joe Adams  1.0  \n",
       "773492        Joe Bascopolous  1.0  \n",
       "773500            Jerry Flynn  1.0  \n",
       "773458      Mortimer Brewster  1.0  \n",
       "773495             Ernie Mott  1.0  \n",
       "773494            Cole Porter  1.0  \n",
       "773497                 Devlin  1.0  \n",
       "773514                   Dick  1.0  \n",
       "773515                 Dudley  1.0  \n",
       "773490          Jim Blandings  1.0  \n",
       "773470      Dr. Madison Brown  1.0  \n",
       "773479    Capt. Henri Rochard  1.0  "
      ]
     },
     "execution_count": 31,
     "metadata": {},
     "output_type": "execute_result"
    }
   ],
   "source": [
    "cast[(cast.name=='Cary Grant')&(cast.n==1.0)&(cast.year>=1940)&(cast.year<=1949)].sort_values(by='year')"
   ]
  },
  {
   "cell_type": "markdown",
   "id": "86e42ca1",
   "metadata": {},
   "source": [
    "# 27.How many roles were available for actors in the 1950s?"
   ]
  },
  {
   "cell_type": "code",
   "execution_count": 32,
   "id": "f676e17e",
   "metadata": {},
   "outputs": [
    {
     "data": {
      "text/plain": [
       "actor    147951\n",
       "Name: type, dtype: int64"
      ]
     },
     "execution_count": 32,
     "metadata": {},
     "output_type": "execute_result"
    }
   ],
   "source": [
    "cast[(cast.year>=1950)&(cast.year<=1959)&(cast.type=='actor')].type.value_counts()"
   ]
  },
  {
   "cell_type": "markdown",
   "id": "cc798d40",
   "metadata": {},
   "source": [
    "# 28.How many roles were available for actresses in the 1950s?"
   ]
  },
  {
   "cell_type": "code",
   "execution_count": 33,
   "id": "24228550",
   "metadata": {},
   "outputs": [
    {
     "data": {
      "text/plain": [
       "actress    53969\n",
       "Name: type, dtype: int64"
      ]
     },
     "execution_count": 33,
     "metadata": {},
     "output_type": "execute_result"
    }
   ],
   "source": [
    "cast[(cast.year>=1950)&(cast.year<=1959)&(cast.type=='actress')].type.value_counts()"
   ]
  },
  {
   "cell_type": "markdown",
   "id": "3186afd2",
   "metadata": {},
   "source": [
    "# 29.How many leading roles (n=1) were available from the beginning of film history through 1980?"
   ]
  },
  {
   "cell_type": "code",
   "execution_count": 34,
   "id": "f1dba52f",
   "metadata": {},
   "outputs": [
    {
     "data": {
      "text/plain": [
       "49297"
      ]
     },
     "execution_count": 34,
     "metadata": {},
     "output_type": "execute_result"
    }
   ],
   "source": [
    "cast[(cast.year<=1980)&(cast.n==1)].character.nunique()"
   ]
  },
  {
   "cell_type": "markdown",
   "id": "8cd0ab8d",
   "metadata": {},
   "source": [
    "# 30.How many non-leading roles were available through from the beginning of film history through 1980?"
   ]
  },
  {
   "cell_type": "code",
   "execution_count": 35,
   "id": "81bfd70a",
   "metadata": {},
   "outputs": [
    {
     "data": {
      "text/plain": [
       "537870"
      ]
     },
     "execution_count": 35,
     "metadata": {},
     "output_type": "execute_result"
    }
   ],
   "source": [
    "cast[(cast.year<=1980)&(cast.n!=1)].character.nunique()"
   ]
  },
  {
   "cell_type": "markdown",
   "id": "0c76fee4",
   "metadata": {},
   "source": [
    "# 31.How many roles through 1980 were minor enough that they did not warrant a numeric \"n\" rank?"
   ]
  },
  {
   "cell_type": "code",
   "execution_count": 36,
   "id": "8de6e802",
   "metadata": {},
   "outputs": [
    {
     "data": {
      "text/plain": [
       "177287"
      ]
     },
     "execution_count": 36,
     "metadata": {},
     "output_type": "execute_result"
    }
   ],
   "source": [
    "cast[(cast.year<=1980)&(cast.n.isnull())].character.nunique()"
   ]
  }
 ],
 "metadata": {
  "kernelspec": {
   "display_name": "Python 3 (ipykernel)",
   "language": "python",
   "name": "python3"
  },
  "language_info": {
   "codemirror_mode": {
    "name": "ipython",
    "version": 3
   },
   "file_extension": ".py",
   "mimetype": "text/x-python",
   "name": "python",
   "nbconvert_exporter": "python",
   "pygments_lexer": "ipython3",
   "version": "3.9.13"
  }
 },
 "nbformat": 4,
 "nbformat_minor": 5
}
